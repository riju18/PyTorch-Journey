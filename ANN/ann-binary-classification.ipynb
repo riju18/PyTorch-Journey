{
 "cells": [
  {
   "cell_type": "code",
   "execution_count": 1,
   "id": "5cd5c2f4",
   "metadata": {
    "ExecuteTime": {
     "end_time": "2021-07-10T06:01:00.058883Z",
     "start_time": "2021-07-10T06:00:57.732156Z"
    }
   },
   "outputs": [],
   "source": [
    "import pandas as pd\n",
    "import seaborn as sns\n",
    "import os\n",
    "from sklearn.preprocessing import MinMaxScaler\n",
    "from sklearn.model_selection import train_test_split\n",
    "import torch\n",
    "from torch.utils.data import Dataset, DataLoader"
   ]
  },
  {
   "cell_type": "code",
   "execution_count": 2,
   "id": "2a9426cd",
   "metadata": {
    "ExecuteTime": {
     "end_time": "2021-07-10T06:01:00.090560Z",
     "start_time": "2021-07-10T06:01:00.062876Z"
    }
   },
   "outputs": [],
   "source": [
    "df = pd.read_csv('Churn_Modelling.csv')"
   ]
  },
  {
   "cell_type": "code",
   "execution_count": 3,
   "id": "2e136334",
   "metadata": {
    "ExecuteTime": {
     "end_time": "2021-07-10T06:01:00.152339Z",
     "start_time": "2021-07-10T06:01:00.092526Z"
    }
   },
   "outputs": [
    {
     "data": {
      "text/html": [
       "<div>\n",
       "<style scoped>\n",
       "    .dataframe tbody tr th:only-of-type {\n",
       "        vertical-align: middle;\n",
       "    }\n",
       "\n",
       "    .dataframe tbody tr th {\n",
       "        vertical-align: top;\n",
       "    }\n",
       "\n",
       "    .dataframe thead th {\n",
       "        text-align: right;\n",
       "    }\n",
       "</style>\n",
       "<table border=\"1\" class=\"dataframe\">\n",
       "  <thead>\n",
       "    <tr style=\"text-align: right;\">\n",
       "      <th></th>\n",
       "      <th>RowNumber</th>\n",
       "      <th>CustomerId</th>\n",
       "      <th>Surname</th>\n",
       "      <th>CreditScore</th>\n",
       "      <th>Geography</th>\n",
       "      <th>Gender</th>\n",
       "      <th>Age</th>\n",
       "      <th>Tenure</th>\n",
       "      <th>Balance</th>\n",
       "      <th>NumOfProducts</th>\n",
       "      <th>HasCrCard</th>\n",
       "      <th>IsActiveMember</th>\n",
       "      <th>EstimatedSalary</th>\n",
       "      <th>Exited</th>\n",
       "    </tr>\n",
       "  </thead>\n",
       "  <tbody>\n",
       "    <tr>\n",
       "      <th>0</th>\n",
       "      <td>1</td>\n",
       "      <td>15634602</td>\n",
       "      <td>Hargrave</td>\n",
       "      <td>619</td>\n",
       "      <td>France</td>\n",
       "      <td>Female</td>\n",
       "      <td>42</td>\n",
       "      <td>2</td>\n",
       "      <td>0.00</td>\n",
       "      <td>1</td>\n",
       "      <td>1</td>\n",
       "      <td>1</td>\n",
       "      <td>101348.88</td>\n",
       "      <td>1</td>\n",
       "    </tr>\n",
       "    <tr>\n",
       "      <th>1</th>\n",
       "      <td>2</td>\n",
       "      <td>15647311</td>\n",
       "      <td>Hill</td>\n",
       "      <td>608</td>\n",
       "      <td>Spain</td>\n",
       "      <td>Female</td>\n",
       "      <td>41</td>\n",
       "      <td>1</td>\n",
       "      <td>83807.86</td>\n",
       "      <td>1</td>\n",
       "      <td>0</td>\n",
       "      <td>1</td>\n",
       "      <td>112542.58</td>\n",
       "      <td>0</td>\n",
       "    </tr>\n",
       "    <tr>\n",
       "      <th>2</th>\n",
       "      <td>3</td>\n",
       "      <td>15619304</td>\n",
       "      <td>Onio</td>\n",
       "      <td>502</td>\n",
       "      <td>France</td>\n",
       "      <td>Female</td>\n",
       "      <td>42</td>\n",
       "      <td>8</td>\n",
       "      <td>159660.80</td>\n",
       "      <td>3</td>\n",
       "      <td>1</td>\n",
       "      <td>0</td>\n",
       "      <td>113931.57</td>\n",
       "      <td>1</td>\n",
       "    </tr>\n",
       "    <tr>\n",
       "      <th>3</th>\n",
       "      <td>4</td>\n",
       "      <td>15701354</td>\n",
       "      <td>Boni</td>\n",
       "      <td>699</td>\n",
       "      <td>France</td>\n",
       "      <td>Female</td>\n",
       "      <td>39</td>\n",
       "      <td>1</td>\n",
       "      <td>0.00</td>\n",
       "      <td>2</td>\n",
       "      <td>0</td>\n",
       "      <td>0</td>\n",
       "      <td>93826.63</td>\n",
       "      <td>0</td>\n",
       "    </tr>\n",
       "    <tr>\n",
       "      <th>4</th>\n",
       "      <td>5</td>\n",
       "      <td>15737888</td>\n",
       "      <td>Mitchell</td>\n",
       "      <td>850</td>\n",
       "      <td>Spain</td>\n",
       "      <td>Female</td>\n",
       "      <td>43</td>\n",
       "      <td>2</td>\n",
       "      <td>125510.82</td>\n",
       "      <td>1</td>\n",
       "      <td>1</td>\n",
       "      <td>1</td>\n",
       "      <td>79084.10</td>\n",
       "      <td>0</td>\n",
       "    </tr>\n",
       "    <tr>\n",
       "      <th>5</th>\n",
       "      <td>6</td>\n",
       "      <td>15574012</td>\n",
       "      <td>Chu</td>\n",
       "      <td>645</td>\n",
       "      <td>Spain</td>\n",
       "      <td>Male</td>\n",
       "      <td>44</td>\n",
       "      <td>8</td>\n",
       "      <td>113755.78</td>\n",
       "      <td>2</td>\n",
       "      <td>1</td>\n",
       "      <td>0</td>\n",
       "      <td>149756.71</td>\n",
       "      <td>1</td>\n",
       "    </tr>\n",
       "    <tr>\n",
       "      <th>6</th>\n",
       "      <td>7</td>\n",
       "      <td>15592531</td>\n",
       "      <td>Bartlett</td>\n",
       "      <td>822</td>\n",
       "      <td>France</td>\n",
       "      <td>Male</td>\n",
       "      <td>50</td>\n",
       "      <td>7</td>\n",
       "      <td>0.00</td>\n",
       "      <td>2</td>\n",
       "      <td>1</td>\n",
       "      <td>1</td>\n",
       "      <td>10062.80</td>\n",
       "      <td>0</td>\n",
       "    </tr>\n",
       "    <tr>\n",
       "      <th>7</th>\n",
       "      <td>8</td>\n",
       "      <td>15656148</td>\n",
       "      <td>Obinna</td>\n",
       "      <td>376</td>\n",
       "      <td>Germany</td>\n",
       "      <td>Female</td>\n",
       "      <td>29</td>\n",
       "      <td>4</td>\n",
       "      <td>115046.74</td>\n",
       "      <td>4</td>\n",
       "      <td>1</td>\n",
       "      <td>0</td>\n",
       "      <td>119346.88</td>\n",
       "      <td>1</td>\n",
       "    </tr>\n",
       "    <tr>\n",
       "      <th>8</th>\n",
       "      <td>9</td>\n",
       "      <td>15792365</td>\n",
       "      <td>He</td>\n",
       "      <td>501</td>\n",
       "      <td>France</td>\n",
       "      <td>Male</td>\n",
       "      <td>44</td>\n",
       "      <td>4</td>\n",
       "      <td>142051.07</td>\n",
       "      <td>2</td>\n",
       "      <td>0</td>\n",
       "      <td>1</td>\n",
       "      <td>74940.50</td>\n",
       "      <td>0</td>\n",
       "    </tr>\n",
       "    <tr>\n",
       "      <th>9</th>\n",
       "      <td>10</td>\n",
       "      <td>15592389</td>\n",
       "      <td>H?</td>\n",
       "      <td>684</td>\n",
       "      <td>France</td>\n",
       "      <td>Male</td>\n",
       "      <td>27</td>\n",
       "      <td>2</td>\n",
       "      <td>134603.88</td>\n",
       "      <td>1</td>\n",
       "      <td>1</td>\n",
       "      <td>1</td>\n",
       "      <td>71725.73</td>\n",
       "      <td>0</td>\n",
       "    </tr>\n",
       "  </tbody>\n",
       "</table>\n",
       "</div>"
      ],
      "text/plain": [
       "   RowNumber  CustomerId   Surname  CreditScore Geography  Gender  Age  \\\n",
       "0          1    15634602  Hargrave          619    France  Female   42   \n",
       "1          2    15647311      Hill          608     Spain  Female   41   \n",
       "2          3    15619304      Onio          502    France  Female   42   \n",
       "3          4    15701354      Boni          699    France  Female   39   \n",
       "4          5    15737888  Mitchell          850     Spain  Female   43   \n",
       "5          6    15574012       Chu          645     Spain    Male   44   \n",
       "6          7    15592531  Bartlett          822    France    Male   50   \n",
       "7          8    15656148    Obinna          376   Germany  Female   29   \n",
       "8          9    15792365        He          501    France    Male   44   \n",
       "9         10    15592389        H?          684    France    Male   27   \n",
       "\n",
       "   Tenure    Balance  NumOfProducts  HasCrCard  IsActiveMember  \\\n",
       "0       2       0.00              1          1               1   \n",
       "1       1   83807.86              1          0               1   \n",
       "2       8  159660.80              3          1               0   \n",
       "3       1       0.00              2          0               0   \n",
       "4       2  125510.82              1          1               1   \n",
       "5       8  113755.78              2          1               0   \n",
       "6       7       0.00              2          1               1   \n",
       "7       4  115046.74              4          1               0   \n",
       "8       4  142051.07              2          0               1   \n",
       "9       2  134603.88              1          1               1   \n",
       "\n",
       "   EstimatedSalary  Exited  \n",
       "0        101348.88       1  \n",
       "1        112542.58       0  \n",
       "2        113931.57       1  \n",
       "3         93826.63       0  \n",
       "4         79084.10       0  \n",
       "5        149756.71       1  \n",
       "6         10062.80       0  \n",
       "7        119346.88       1  \n",
       "8         74940.50       0  \n",
       "9         71725.73       0  "
      ]
     },
     "execution_count": 3,
     "metadata": {},
     "output_type": "execute_result"
    }
   ],
   "source": [
    "df.head(10)"
   ]
  },
  {
   "cell_type": "code",
   "execution_count": 4,
   "id": "60c5010f",
   "metadata": {
    "ExecuteTime": {
     "end_time": "2021-07-10T06:01:00.246861Z",
     "start_time": "2021-07-10T06:01:00.154333Z"
    }
   },
   "outputs": [],
   "source": [
    "X = df.iloc[:, 3:-1].values\n",
    "Y = df.iloc[:, -1].values"
   ]
  },
  {
   "cell_type": "code",
   "execution_count": 5,
   "id": "903952c9",
   "metadata": {
    "ExecuteTime": {
     "end_time": "2021-07-10T06:01:00.323547Z",
     "start_time": "2021-07-10T06:01:00.247847Z"
    }
   },
   "outputs": [],
   "source": [
    "from sklearn.preprocessing import LabelEncoder,OneHotEncoder"
   ]
  },
  {
   "cell_type": "code",
   "execution_count": 6,
   "id": "f0821f92",
   "metadata": {
    "ExecuteTime": {
     "end_time": "2021-07-10T06:01:00.418244Z",
     "start_time": "2021-07-10T06:01:00.330530Z"
    }
   },
   "outputs": [],
   "source": [
    "labelEncoder_x_1 = LabelEncoder()\n",
    "labelEncoder_x_2 = LabelEncoder()\n",
    "\n",
    "X[:, 1] = labelEncoder_x_1.fit_transform(X[:, 1])  # encoding 'geography' col\n",
    "X[:, 2] = labelEncoder_x_1.fit_transform(X[:, 2])  # encoding 'gender' col"
   ]
  },
  {
   "cell_type": "code",
   "execution_count": 7,
   "id": "87ecf337",
   "metadata": {
    "ExecuteTime": {
     "end_time": "2021-07-10T06:01:00.512284Z",
     "start_time": "2021-07-10T06:01:00.419213Z"
    }
   },
   "outputs": [],
   "source": [
    "\"\"\"\n",
    " very important section \n",
    "\"\"\"\n",
    "from sklearn.compose import ColumnTransformer"
   ]
  },
  {
   "cell_type": "code",
   "execution_count": 8,
   "id": "f0a43481",
   "metadata": {
    "ExecuteTime": {
     "end_time": "2021-07-10T06:01:00.619360Z",
     "start_time": "2021-07-10T06:01:00.514280Z"
    }
   },
   "outputs": [],
   "source": [
    "ct = ColumnTransformer([('Geography', OneHotEncoder(), [1])],remainder='passthrough')\n",
    "X = ct.fit_transform(X)\n",
    "X = X[:, 1:]   # avoid dummy variable trap"
   ]
  },
  {
   "cell_type": "code",
   "execution_count": 9,
   "id": "7860fcc2",
   "metadata": {
    "ExecuteTime": {
     "end_time": "2021-07-10T06:01:00.714622Z",
     "start_time": "2021-07-10T06:01:00.621287Z"
    }
   },
   "outputs": [],
   "source": [
    "x_train,x_test,y_train,y_test = train_test_split(X,Y, test_size = 0.2, random_state = 0)"
   ]
  },
  {
   "cell_type": "code",
   "execution_count": 10,
   "id": "0e8e7474",
   "metadata": {
    "ExecuteTime": {
     "end_time": "2021-07-10T06:01:00.776717Z",
     "start_time": "2021-07-10T06:01:00.716622Z"
    }
   },
   "outputs": [],
   "source": [
    "from sklearn.preprocessing import StandardScaler"
   ]
  },
  {
   "cell_type": "code",
   "execution_count": 11,
   "id": "cac55340",
   "metadata": {
    "ExecuteTime": {
     "end_time": "2021-07-10T06:01:00.869857Z",
     "start_time": "2021-07-10T06:01:00.777703Z"
    }
   },
   "outputs": [],
   "source": [
    "sc = StandardScaler()"
   ]
  },
  {
   "cell_type": "code",
   "execution_count": 12,
   "id": "327c00f4",
   "metadata": {
    "ExecuteTime": {
     "end_time": "2021-07-10T06:01:00.978085Z",
     "start_time": "2021-07-10T06:01:00.872841Z"
    }
   },
   "outputs": [],
   "source": [
    "x_train = sc.fit_transform(x_train)\n",
    "x_test = sc.transform(x_test)"
   ]
  },
  {
   "cell_type": "code",
   "execution_count": 13,
   "id": "e7ac0d18",
   "metadata": {
    "ExecuteTime": {
     "end_time": "2021-07-10T06:01:01.072459Z",
     "start_time": "2021-07-10T06:01:00.981115Z"
    }
   },
   "outputs": [],
   "source": [
    "class trainData(Dataset):\n",
    "    def __init__(self, X_data, y_data):\n",
    "        self.X_data = X_data\n",
    "        self.y_data = y_data  \n",
    "        \n",
    "    def __getitem__(self, index):\n",
    "        return self.X_data[index], self.y_data[index]\n",
    "    \n",
    "    def __len__ (self):\n",
    "        return len(self.X_data)\n",
    "\n",
    "class testData(Dataset):\n",
    "    def __init__(self, X_data):\n",
    "        self.X_data = X_data\n",
    "        \n",
    "    def __getitem__(self, index):\n",
    "        return self.X_data[index]\n",
    "        \n",
    "    def __len__ (self):\n",
    "        return len(self.X_data)\n",
    "    \n",
    "train_data = trainData(torch.FloatTensor(x_train), torch.FloatTensor(y_train))\n",
    "test_data = testData(torch.FloatTensor(x_test))"
   ]
  },
  {
   "cell_type": "code",
   "execution_count": 14,
   "id": "e738f23c",
   "metadata": {
    "ExecuteTime": {
     "end_time": "2021-07-10T06:01:01.166739Z",
     "start_time": "2021-07-10T06:01:01.073457Z"
    }
   },
   "outputs": [],
   "source": [
    "input_neurons = 11\n",
    "hidden_neurons = 20\n",
    "output_neurons = 1\n",
    "batch_size = 10\n",
    "epoch = 50\n",
    "learning_rate = 0.001"
   ]
  },
  {
   "cell_type": "code",
   "execution_count": 15,
   "id": "e4e78880",
   "metadata": {
    "ExecuteTime": {
     "end_time": "2021-07-10T06:01:01.274968Z",
     "start_time": "2021-07-10T06:01:01.167737Z"
    }
   },
   "outputs": [],
   "source": [
    "train_loader = DataLoader(dataset=train_data, batch_size=batch_size, shuffle=True)\n",
    "test_loader = DataLoader(dataset=test_data, batch_size=1)"
   ]
  },
  {
   "cell_type": "code",
   "execution_count": 16,
   "id": "874cef5f",
   "metadata": {
    "ExecuteTime": {
     "end_time": "2021-07-10T06:01:01.352240Z",
     "start_time": "2021-07-10T06:01:01.280460Z"
    }
   },
   "outputs": [],
   "source": [
    "from torch import nn"
   ]
  },
  {
   "cell_type": "code",
   "execution_count": 17,
   "id": "4c45e2fd",
   "metadata": {
    "ExecuteTime": {
     "end_time": "2021-07-10T06:01:01.446737Z",
     "start_time": "2021-07-10T06:01:01.353143Z"
    }
   },
   "outputs": [],
   "source": [
    "class ANN(nn.Module):\n",
    "    def __init__(self, input_neuron, hidden_neuron, output_neuron):\n",
    "        super(ANN, self).__init__()\n",
    "        \n",
    "        self.l1 = nn.Linear(input_neuron, hidden_neuron)\n",
    "        self.l2 = nn.Linear(hidden_neuron, hidden_neuron)\n",
    "        self.l3 = nn.Linear(hidden_neuron, output_neuron)\n",
    "        \n",
    "        self.relu = nn.ReLU()\n",
    "        self.dropout = nn.Dropout(p=0.1)\n",
    "        self.batchnorm1 = nn.BatchNorm1d(hidden_neurons)\n",
    "        self.batchnorm2 = nn.BatchNorm1d(hidden_neurons)\n",
    "    \n",
    "    def forward(self, inputs):\n",
    "        x = self.relu(self.l1(inputs))\n",
    "        x = self.batchnorm1(x)\n",
    "        x = self.relu(self.l2(x))\n",
    "        x = self.batchnorm2(x)\n",
    "        x = self.dropout(x)\n",
    "        x = self.l3(x)\n",
    "        \n",
    "        return x"
   ]
  },
  {
   "cell_type": "code",
   "execution_count": 18,
   "id": "97394e71",
   "metadata": {
    "ExecuteTime": {
     "end_time": "2021-07-10T06:01:01.554292Z",
     "start_time": "2021-07-10T06:01:01.448746Z"
    }
   },
   "outputs": [
    {
     "name": "stdout",
     "output_type": "stream",
     "text": [
      "cuda:0\n"
     ]
    }
   ],
   "source": [
    "device = torch.device(\"cuda:0\" if torch.cuda.is_available() else \"cpu\")\n",
    "print(device)"
   ]
  },
  {
   "cell_type": "code",
   "execution_count": 19,
   "id": "a5d25ceb",
   "metadata": {
    "ExecuteTime": {
     "end_time": "2021-07-10T06:01:03.146829Z",
     "start_time": "2021-07-10T06:01:01.555304Z"
    }
   },
   "outputs": [
    {
     "data": {
      "text/plain": [
       "ANN(\n",
       "  (l1): Linear(in_features=11, out_features=20, bias=True)\n",
       "  (l2): Linear(in_features=20, out_features=20, bias=True)\n",
       "  (l3): Linear(in_features=20, out_features=1, bias=True)\n",
       "  (relu): ReLU()\n",
       "  (dropout): Dropout(p=0.1, inplace=False)\n",
       "  (batchnorm1): BatchNorm1d(20, eps=1e-05, momentum=0.1, affine=True, track_running_stats=True)\n",
       "  (batchnorm2): BatchNorm1d(20, eps=1e-05, momentum=0.1, affine=True, track_running_stats=True)\n",
       ")"
      ]
     },
     "execution_count": 19,
     "metadata": {},
     "output_type": "execute_result"
    }
   ],
   "source": [
    "model = ANN(input_neurons, hidden_neurons, output_neurons)\n",
    "model.to(device)"
   ]
  },
  {
   "cell_type": "code",
   "execution_count": 20,
   "id": "f0c5b007",
   "metadata": {
    "ExecuteTime": {
     "end_time": "2021-07-10T06:01:03.162349Z",
     "start_time": "2021-07-10T06:01:03.149301Z"
    }
   },
   "outputs": [],
   "source": [
    "criterion = nn.BCEWithLogitsLoss()\n",
    "# optimizer = torch.optim.Adam(model.parameters())\n",
    "optimizer = torch.optim.Adam(model.parameters(), lr=learning_rate)"
   ]
  },
  {
   "cell_type": "code",
   "execution_count": 21,
   "id": "0f231132",
   "metadata": {
    "ExecuteTime": {
     "end_time": "2021-07-10T06:01:03.270757Z",
     "start_time": "2021-07-10T06:01:03.166333Z"
    }
   },
   "outputs": [],
   "source": [
    "def binary_acc(y_pred, y_actual):\n",
    "    y_pred_tag = torch.round(torch.sigmoid(y_pred))\n",
    "    correct_results_sum = (y_pred_tag == y_actual).sum().float()\n",
    "    acc = correct_results_sum / y_actual.shape[0]\n",
    "    acc = torch.round(acc * 100)\n",
    "    return acc"
   ]
  },
  {
   "cell_type": "code",
   "execution_count": 22,
   "id": "225cf662",
   "metadata": {
    "ExecuteTime": {
     "end_time": "2021-07-10T06:04:17.297661Z",
     "start_time": "2021-07-10T06:01:03.271662Z"
    }
   },
   "outputs": [
    {
     "name": "stdout",
     "output_type": "stream",
     "text": [
      "Epoch 1: | Loss: 0.48553 | Acc: 77.800\n",
      "Epoch 2: | Loss: 0.41362 | Acc: 81.963\n",
      "Epoch 3: | Loss: 0.39345 | Acc: 83.350\n",
      "Epoch 4: | Loss: 0.39023 | Acc: 83.300\n",
      "Epoch 5: | Loss: 0.38051 | Acc: 84.088\n",
      "Epoch 6: | Loss: 0.37380 | Acc: 84.263\n",
      "Epoch 7: | Loss: 0.38021 | Acc: 84.037\n",
      "Epoch 8: | Loss: 0.37636 | Acc: 84.650\n",
      "Epoch 9: | Loss: 0.37144 | Acc: 84.737\n",
      "Epoch 10: | Loss: 0.36838 | Acc: 84.838\n",
      "Epoch 11: | Loss: 0.36884 | Acc: 84.975\n",
      "Epoch 12: | Loss: 0.36664 | Acc: 84.862\n",
      "Epoch 13: | Loss: 0.37272 | Acc: 84.650\n",
      "Epoch 14: | Loss: 0.36631 | Acc: 85.400\n",
      "Epoch 15: | Loss: 0.36453 | Acc: 84.987\n",
      "Epoch 16: | Loss: 0.36194 | Acc: 85.138\n",
      "Epoch 17: | Loss: 0.36533 | Acc: 84.987\n",
      "Epoch 18: | Loss: 0.36691 | Acc: 85.025\n",
      "Epoch 19: | Loss: 0.36121 | Acc: 85.350\n",
      "Epoch 20: | Loss: 0.36596 | Acc: 85.225\n",
      "Epoch 21: | Loss: 0.36602 | Acc: 84.950\n",
      "Epoch 22: | Loss: 0.36347 | Acc: 85.138\n",
      "Epoch 23: | Loss: 0.36041 | Acc: 85.375\n",
      "Epoch 24: | Loss: 0.35733 | Acc: 85.225\n",
      "Epoch 25: | Loss: 0.35798 | Acc: 85.338\n",
      "Epoch 26: | Loss: 0.36480 | Acc: 85.088\n",
      "Epoch 27: | Loss: 0.35552 | Acc: 85.487\n",
      "Epoch 28: | Loss: 0.35810 | Acc: 85.575\n",
      "Epoch 29: | Loss: 0.36142 | Acc: 85.100\n",
      "Epoch 30: | Loss: 0.35606 | Acc: 85.513\n",
      "Epoch 31: | Loss: 0.36083 | Acc: 85.375\n",
      "Epoch 32: | Loss: 0.36120 | Acc: 85.388\n",
      "Epoch 33: | Loss: 0.35822 | Acc: 85.188\n",
      "Epoch 34: | Loss: 0.35872 | Acc: 85.250\n",
      "Epoch 35: | Loss: 0.35968 | Acc: 85.062\n",
      "Epoch 36: | Loss: 0.35837 | Acc: 85.312\n",
      "Epoch 37: | Loss: 0.35491 | Acc: 85.675\n",
      "Epoch 38: | Loss: 0.35469 | Acc: 85.362\n",
      "Epoch 39: | Loss: 0.35277 | Acc: 85.763\n",
      "Epoch 40: | Loss: 0.35785 | Acc: 85.475\n",
      "Epoch 41: | Loss: 0.35583 | Acc: 85.662\n",
      "Epoch 42: | Loss: 0.35626 | Acc: 85.388\n",
      "Epoch 43: | Loss: 0.35734 | Acc: 85.338\n",
      "Epoch 44: | Loss: 0.35492 | Acc: 85.412\n",
      "Epoch 45: | Loss: 0.35486 | Acc: 85.675\n",
      "Epoch 46: | Loss: 0.35276 | Acc: 85.688\n",
      "Epoch 47: | Loss: 0.35215 | Acc: 85.775\n",
      "Epoch 48: | Loss: 0.35291 | Acc: 85.850\n",
      "Epoch 49: | Loss: 0.35287 | Acc: 85.325\n",
      "Epoch 50: | Loss: 0.35129 | Acc: 85.688\n"
     ]
    }
   ],
   "source": [
    "model.train()\n",
    "for e in range(1, epoch+1):\n",
    "    epoch_loss = 0\n",
    "    epoch_acc = 0\n",
    "    for X_batch, y_batch in train_loader:\n",
    "        X_batch, y_batch = X_batch.to(device), y_batch.to(device)\n",
    "        optimizer.zero_grad()\n",
    "        \n",
    "        y_pred = model(X_batch)\n",
    "        \n",
    "        loss = criterion(y_pred, y_batch.unsqueeze(1))\n",
    "        acc = binary_acc(y_pred, y_batch.unsqueeze(1))\n",
    "        \n",
    "        loss.backward()\n",
    "        optimizer.step()\n",
    "        \n",
    "        epoch_loss += loss.item()\n",
    "        epoch_acc += acc.item()\n",
    "        \n",
    "\n",
    "    print(f'Epoch {e}: | Loss: {epoch_loss/len(train_loader):.5f} | Acc: {epoch_acc/len(train_loader):.3f}')"
   ]
  },
  {
   "cell_type": "code",
   "execution_count": 23,
   "id": "f4f47c66",
   "metadata": {
    "ExecuteTime": {
     "end_time": "2021-07-10T06:04:19.020624Z",
     "start_time": "2021-07-10T06:04:17.300651Z"
    }
   },
   "outputs": [],
   "source": [
    "y_pred_list = []\n",
    "model.eval()\n",
    "with torch.no_grad():\n",
    "    for X_batch in test_loader:\n",
    "        X_batch = X_batch.to(device)\n",
    "        y_test_pred = model(X_batch)\n",
    "        y_test_pred = torch.sigmoid(y_test_pred)\n",
    "        y_pred_tag = torch.round(y_test_pred)\n",
    "        y_pred_list.append(y_pred_tag.cpu().numpy())\n",
    "\n",
    "y_pred_list = [a.squeeze().tolist() for a in y_pred_list]"
   ]
  },
  {
   "cell_type": "code",
   "execution_count": 24,
   "id": "e1fc1c01",
   "metadata": {
    "ExecuteTime": {
     "end_time": "2021-07-10T06:04:19.036538Z",
     "start_time": "2021-07-10T06:04:19.025579Z"
    }
   },
   "outputs": [],
   "source": [
    "from sklearn.metrics import confusion_matrix, classification_report, accuracy_score"
   ]
  },
  {
   "cell_type": "code",
   "execution_count": 25,
   "id": "0a8efa87",
   "metadata": {
    "ExecuteTime": {
     "end_time": "2021-07-10T06:04:19.209361Z",
     "start_time": "2021-07-10T06:04:19.038531Z"
    }
   },
   "outputs": [
    {
     "data": {
      "text/plain": [
       "<AxesSubplot:>"
      ]
     },
     "execution_count": 25,
     "metadata": {},
     "output_type": "execute_result"
    },
    {
     "data": {
      "image/png": "[encoded data removed]",
      "text/plain": [
       "<Figure size 432x288 with 1 Axes>"
      ]
     },
     "metadata": {
      "needs_background": "light"
     },
     "output_type": "display_data"
    }
   ],
   "source": [
    "sns.heatmap(confusion_matrix(y_test, y_pred_list), annot=True, fmt='.0f', cbar=False)  "
   ]
  },
  {
   "cell_type": "code",
   "execution_count": 26,
   "id": "071a38d7",
   "metadata": {
    "ExecuteTime": {
     "end_time": "2021-07-10T06:04:19.224228Z",
     "start_time": "2021-07-10T06:04:19.210266Z"
    }
   },
   "outputs": [
    {
     "name": "stdout",
     "output_type": "stream",
     "text": [
      "              precision    recall  f1-score   support\n",
      "\n",
      "           0       0.89      0.95      0.92      1595\n",
      "           1       0.73      0.52      0.61       405\n",
      "\n",
      "    accuracy                           0.86      2000\n",
      "   macro avg       0.81      0.74      0.76      2000\n",
      "weighted avg       0.85      0.86      0.85      2000\n",
      "\n"
     ]
    }
   ],
   "source": [
    "print(classification_report(y_test, y_pred_list))"
   ]
  },
  {
   "cell_type": "code",
   "execution_count": 27,
   "id": "d2a03c0e",
   "metadata": {
    "ExecuteTime": {
     "end_time": "2021-07-10T06:04:19.332281Z",
     "start_time": "2021-07-10T06:04:19.225891Z"
    }
   },
   "outputs": [
    {
     "data": {
      "text/plain": [
       "86.3"
      ]
     },
     "execution_count": 27,
     "metadata": {},
     "output_type": "execute_result"
    }
   ],
   "source": [
    "round(accuracy_score(y_test, y_pred_list)*100, 2)"
   ]
  },
  {
   "cell_type": "code",
   "execution_count": 28,
   "id": "170e478a",
   "metadata": {
    "ExecuteTime": {
     "end_time": "2021-07-10T06:04:19.411114Z",
     "start_time": "2021-07-10T06:04:19.334279Z"
    }
   },
   "outputs": [],
   "source": [
    "# https://towardsdatascience.com/pytorch-tabular-binary-classification-a0368da5bb89"
   ]
  }
 ],
 "metadata": {
  "kernelspec": {
   "display_name": "Python 3",
   "language": "python",
   "name": "python3"
  },
  "language_info": {
   "codemirror_mode": {
    "name": "ipython",
    "version": 3
   },
   "file_extension": ".py",
   "mimetype": "text/x-python",
   "name": "python",
   "nbconvert_exporter": "python",
   "pygments_lexer": "ipython3",
   "version": "3.7.10"
  }
 },
 "nbformat": 4,
 "nbformat_minor": 5
}
